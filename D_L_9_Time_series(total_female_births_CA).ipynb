{
  "nbformat": 4,
  "nbformat_minor": 0,
  "metadata": {
    "colab": {
      "name": "D_L_9_Time_series(total-female-births-CA).ipynb",
      "provenance": [],
      "collapsed_sections": [
        "D8n1K-2_-NmY",
        "vqA_VtmnLtLk",
        "kITnbQuwMAby",
        "V5VrydlkMNmk",
        "uEXbFeJ4NZX8",
        "ugfmQNm1YQ_y",
        "cO5zcVfWYUtn"
      ],
      "authorship_tag": "ABX9TyMyR6z8DrL3sbjTR9OoR+Ub",
      "include_colab_link": true
    },
    "kernelspec": {
      "name": "python3",
      "display_name": "Python 3"
    },
    "language_info": {
      "name": "python"
    }
  },
  "cells": [
    {
      "cell_type": "markdown",
      "metadata": {
        "id": "view-in-github",
        "colab_type": "text"
      },
      "source": [
        "<a href=\"https://colab.research.google.com/github/YahiaML/Time_series-total-female-births-CA-/blob/main/D_L_9_Time_series(total_female_births_CA).ipynb\" target=\"_parent\"><img src=\"https://colab.research.google.com/assets/colab-badge.svg\" alt=\"Open In Colab\"/></a>"
      ]
    },
    {
      "cell_type": "markdown",
      "metadata": {
        "id": "zRMi06GZaVu4"
      },
      "source": [
        "# **1.Importing the data**\n",
        "\n",
        "There are two methods to import Time series"
      ]
    },
    {
      "cell_type": "code",
      "metadata": {
        "id": "T8fGdi0F6FIi"
      },
      "source": [
        "import pandas as pd"
      ],
      "execution_count": null,
      "outputs": []
    },
    {
      "cell_type": "markdown",
      "metadata": {
        "id": "UFflwvXL-DHi"
      },
      "source": [
        "\n",
        "\n",
        "---\n",
        "\n",
        "\n",
        "## **Method 1 (Data Frame) :**"
      ]
    },
    {
      "cell_type": "code",
      "metadata": {
        "id": "QmIcXrv76f4X"
      },
      "source": [
        "df = pd.read_csv(\"/content/daily-total-female-births-CA.csv\")"
      ],
      "execution_count": null,
      "outputs": []
    },
    {
      "cell_type": "code",
      "metadata": {
        "colab": {
          "base_uri": "https://localhost:8080/",
          "height": 206
        },
        "id": "feuq3Ba26nME",
        "outputId": "36e02aea-f472-46ae-8e0d-b5bc5d40f0aa"
      },
      "source": [
        "df.head()"
      ],
      "execution_count": null,
      "outputs": [
        {
          "output_type": "execute_result",
          "data": {
            "text/html": [
              "<div>\n",
              "<style scoped>\n",
              "    .dataframe tbody tr th:only-of-type {\n",
              "        vertical-align: middle;\n",
              "    }\n",
              "\n",
              "    .dataframe tbody tr th {\n",
              "        vertical-align: top;\n",
              "    }\n",
              "\n",
              "    .dataframe thead th {\n",
              "        text-align: right;\n",
              "    }\n",
              "</style>\n",
              "<table border=\"1\" class=\"dataframe\">\n",
              "  <thead>\n",
              "    <tr style=\"text-align: right;\">\n",
              "      <th></th>\n",
              "      <th>date</th>\n",
              "      <th>births</th>\n",
              "    </tr>\n",
              "  </thead>\n",
              "  <tbody>\n",
              "    <tr>\n",
              "      <th>0</th>\n",
              "      <td>1959-01-01</td>\n",
              "      <td>35</td>\n",
              "    </tr>\n",
              "    <tr>\n",
              "      <th>1</th>\n",
              "      <td>1959-01-02</td>\n",
              "      <td>32</td>\n",
              "    </tr>\n",
              "    <tr>\n",
              "      <th>2</th>\n",
              "      <td>1959-01-03</td>\n",
              "      <td>30</td>\n",
              "    </tr>\n",
              "    <tr>\n",
              "      <th>3</th>\n",
              "      <td>1959-01-04</td>\n",
              "      <td>31</td>\n",
              "    </tr>\n",
              "    <tr>\n",
              "      <th>4</th>\n",
              "      <td>1959-01-05</td>\n",
              "      <td>44</td>\n",
              "    </tr>\n",
              "  </tbody>\n",
              "</table>\n",
              "</div>"
            ],
            "text/plain": [
              "         date  births\n",
              "0  1959-01-01      35\n",
              "1  1959-01-02      32\n",
              "2  1959-01-03      30\n",
              "3  1959-01-04      31\n",
              "4  1959-01-05      44"
            ]
          },
          "metadata": {
            "tags": []
          },
          "execution_count": 37
        }
      ]
    },
    {
      "cell_type": "code",
      "metadata": {
        "colab": {
          "base_uri": "https://localhost:8080/"
        },
        "id": "RC8ZmlzW66SJ",
        "outputId": "a43dfa95-3532-4632-955e-eec09bb1d471"
      },
      "source": [
        "df[\"date\"].dtype\n",
        "#dtype('O') means Object(strings)\n",
        "# so pandas is considering the \"date\" column a string not a date"
      ],
      "execution_count": null,
      "outputs": [
        {
          "output_type": "execute_result",
          "data": {
            "text/plain": [
              "dtype('O')"
            ]
          },
          "metadata": {
            "tags": []
          },
          "execution_count": 38
        }
      ]
    },
    {
      "cell_type": "code",
      "metadata": {
        "id": "8VtzxJhi7Hdb"
      },
      "source": [
        "# converting \"date\" column into date format\n",
        "df_2 = pd.read_csv(\"/content/daily-total-female-births-CA.csv\",parse_dates=[0])\n",
        "\n",
        "# We wrote parse_dates=[0] bec the column we want to treate its data as\n",
        "# dates is the 1st column"
      ],
      "execution_count": null,
      "outputs": []
    },
    {
      "cell_type": "code",
      "metadata": {
        "colab": {
          "base_uri": "https://localhost:8080/"
        },
        "id": "XJs6hQ9j8SPf",
        "outputId": "ff4602e6-c679-4c16-c5e8-d68219100efc"
      },
      "source": [
        "df_2[\"date\"].dtype\n",
        "# dtype('<M8[ns]') means date_time formate\n",
        "# so pandas is considering the \"date\" column a date_time format"
      ],
      "execution_count": null,
      "outputs": [
        {
          "output_type": "execute_result",
          "data": {
            "text/plain": [
              "dtype('<M8[ns]')"
            ]
          },
          "metadata": {
            "tags": []
          },
          "execution_count": 40
        }
      ]
    },
    {
      "cell_type": "markdown",
      "metadata": {
        "id": "D8n1K-2_-NmY"
      },
      "source": [
        "\n",
        "\n",
        "---\n",
        "\n",
        "\n",
        "## **Method 2 (Series) :**"
      ]
    },
    {
      "cell_type": "code",
      "metadata": {
        "id": "-qqzVxXC-tV8"
      },
      "source": [
        "series = pd.read_csv(\"/content/daily-total-female-births-CA.csv\",parse_dates=[0],\n",
        "                     index_col=0,squeeze = True)"
      ],
      "execution_count": null,
      "outputs": []
    },
    {
      "cell_type": "code",
      "metadata": {
        "colab": {
          "base_uri": "https://localhost:8080/"
        },
        "id": "JBgNIqnA_CKW",
        "outputId": "06dfc951-0435-4164-d08e-1bcbb92a39b6"
      },
      "source": [
        "series.head()"
      ],
      "execution_count": null,
      "outputs": [
        {
          "output_type": "execute_result",
          "data": {
            "text/plain": [
              "date\n",
              "1959-01-01    35\n",
              "1959-01-02    32\n",
              "1959-01-03    30\n",
              "1959-01-04    31\n",
              "1959-01-05    44\n",
              "Name: births, dtype: int64"
            ]
          },
          "metadata": {
            "tags": []
          },
          "execution_count": 42
        }
      ]
    },
    {
      "cell_type": "code",
      "metadata": {
        "id": "W-ODPWrM_Ex0"
      },
      "source": [
        ""
      ],
      "execution_count": null,
      "outputs": []
    },
    {
      "cell_type": "markdown",
      "metadata": {
        "id": "vqA_VtmnLtLk"
      },
      "source": [
        "# **2.Exploring the data**\n"
      ]
    },
    {
      "cell_type": "markdown",
      "metadata": {
        "id": "kITnbQuwMAby"
      },
      "source": [
        "\n",
        "\n",
        "---\n",
        "\n",
        "\n",
        "##**Size**"
      ]
    },
    {
      "cell_type": "code",
      "metadata": {
        "colab": {
          "base_uri": "https://localhost:8080/"
        },
        "id": "eei7ZUmxLxmz",
        "outputId": "5726fad4-79b8-4381-c34a-d15695b8c35a"
      },
      "source": [
        "df_2.shape"
      ],
      "execution_count": null,
      "outputs": [
        {
          "output_type": "execute_result",
          "data": {
            "text/plain": [
              "(365, 2)"
            ]
          },
          "metadata": {
            "tags": []
          },
          "execution_count": 43
        }
      ]
    },
    {
      "cell_type": "code",
      "metadata": {
        "colab": {
          "base_uri": "https://localhost:8080/"
        },
        "id": "2epyVkO1L5H3",
        "outputId": "19016457-080a-479f-ef5d-a91a7920b5d6"
      },
      "source": [
        "series.shape"
      ],
      "execution_count": null,
      "outputs": [
        {
          "output_type": "execute_result",
          "data": {
            "text/plain": [
              "(365,)"
            ]
          },
          "metadata": {
            "tags": []
          },
          "execution_count": 44
        }
      ]
    },
    {
      "cell_type": "markdown",
      "metadata": {
        "id": "V5VrydlkMNmk"
      },
      "source": [
        "\n",
        "\n",
        "---\n",
        "\n",
        "\n",
        "##**Querying by time**"
      ]
    },
    {
      "cell_type": "code",
      "metadata": {
        "colab": {
          "base_uri": "https://localhost:8080/"
        },
        "id": "fqzBVtF4MYgq",
        "outputId": "777f156e-3310-4bbf-9377-7a3791444c18"
      },
      "source": [
        "df_2[(df_2[\"date\"]>\"1959-01-01\") & (df_2[\"date\"]<=\"1959-01-31\")]"
      ],
      "execution_count": null,
      "outputs": [
        {
          "output_type": "execute_result",
          "data": {
            "text/html": [
              "<div>\n",
              "<style scoped>\n",
              "    .dataframe tbody tr th:only-of-type {\n",
              "        vertical-align: middle;\n",
              "    }\n",
              "\n",
              "    .dataframe tbody tr th {\n",
              "        vertical-align: top;\n",
              "    }\n",
              "\n",
              "    .dataframe thead th {\n",
              "        text-align: right;\n",
              "    }\n",
              "</style>\n",
              "<table border=\"1\" class=\"dataframe\">\n",
              "  <thead>\n",
              "    <tr style=\"text-align: right;\">\n",
              "      <th></th>\n",
              "      <th>date</th>\n",
              "      <th>births</th>\n",
              "    </tr>\n",
              "  </thead>\n",
              "  <tbody>\n",
              "    <tr>\n",
              "      <th>1</th>\n",
              "      <td>1959-01-02</td>\n",
              "      <td>32</td>\n",
              "    </tr>\n",
              "    <tr>\n",
              "      <th>2</th>\n",
              "      <td>1959-01-03</td>\n",
              "      <td>30</td>\n",
              "    </tr>\n",
              "    <tr>\n",
              "      <th>3</th>\n",
              "      <td>1959-01-04</td>\n",
              "      <td>31</td>\n",
              "    </tr>\n",
              "    <tr>\n",
              "      <th>4</th>\n",
              "      <td>1959-01-05</td>\n",
              "      <td>44</td>\n",
              "    </tr>\n",
              "    <tr>\n",
              "      <th>5</th>\n",
              "      <td>1959-01-06</td>\n",
              "      <td>29</td>\n",
              "    </tr>\n",
              "    <tr>\n",
              "      <th>6</th>\n",
              "      <td>1959-01-07</td>\n",
              "      <td>45</td>\n",
              "    </tr>\n",
              "    <tr>\n",
              "      <th>7</th>\n",
              "      <td>1959-01-08</td>\n",
              "      <td>43</td>\n",
              "    </tr>\n",
              "    <tr>\n",
              "      <th>8</th>\n",
              "      <td>1959-01-09</td>\n",
              "      <td>38</td>\n",
              "    </tr>\n",
              "    <tr>\n",
              "      <th>9</th>\n",
              "      <td>1959-01-10</td>\n",
              "      <td>27</td>\n",
              "    </tr>\n",
              "    <tr>\n",
              "      <th>10</th>\n",
              "      <td>1959-01-11</td>\n",
              "      <td>38</td>\n",
              "    </tr>\n",
              "    <tr>\n",
              "      <th>11</th>\n",
              "      <td>1959-01-12</td>\n",
              "      <td>33</td>\n",
              "    </tr>\n",
              "    <tr>\n",
              "      <th>12</th>\n",
              "      <td>1959-01-13</td>\n",
              "      <td>55</td>\n",
              "    </tr>\n",
              "    <tr>\n",
              "      <th>13</th>\n",
              "      <td>1959-01-14</td>\n",
              "      <td>47</td>\n",
              "    </tr>\n",
              "    <tr>\n",
              "      <th>14</th>\n",
              "      <td>1959-01-15</td>\n",
              "      <td>45</td>\n",
              "    </tr>\n",
              "    <tr>\n",
              "      <th>15</th>\n",
              "      <td>1959-01-16</td>\n",
              "      <td>37</td>\n",
              "    </tr>\n",
              "    <tr>\n",
              "      <th>16</th>\n",
              "      <td>1959-01-17</td>\n",
              "      <td>50</td>\n",
              "    </tr>\n",
              "    <tr>\n",
              "      <th>17</th>\n",
              "      <td>1959-01-18</td>\n",
              "      <td>43</td>\n",
              "    </tr>\n",
              "    <tr>\n",
              "      <th>18</th>\n",
              "      <td>1959-01-19</td>\n",
              "      <td>41</td>\n",
              "    </tr>\n",
              "    <tr>\n",
              "      <th>19</th>\n",
              "      <td>1959-01-20</td>\n",
              "      <td>52</td>\n",
              "    </tr>\n",
              "    <tr>\n",
              "      <th>20</th>\n",
              "      <td>1959-01-21</td>\n",
              "      <td>34</td>\n",
              "    </tr>\n",
              "    <tr>\n",
              "      <th>21</th>\n",
              "      <td>1959-01-22</td>\n",
              "      <td>53</td>\n",
              "    </tr>\n",
              "    <tr>\n",
              "      <th>22</th>\n",
              "      <td>1959-01-23</td>\n",
              "      <td>39</td>\n",
              "    </tr>\n",
              "    <tr>\n",
              "      <th>23</th>\n",
              "      <td>1959-01-24</td>\n",
              "      <td>32</td>\n",
              "    </tr>\n",
              "    <tr>\n",
              "      <th>24</th>\n",
              "      <td>1959-01-25</td>\n",
              "      <td>37</td>\n",
              "    </tr>\n",
              "    <tr>\n",
              "      <th>25</th>\n",
              "      <td>1959-01-26</td>\n",
              "      <td>43</td>\n",
              "    </tr>\n",
              "    <tr>\n",
              "      <th>26</th>\n",
              "      <td>1959-01-27</td>\n",
              "      <td>39</td>\n",
              "    </tr>\n",
              "    <tr>\n",
              "      <th>27</th>\n",
              "      <td>1959-01-28</td>\n",
              "      <td>35</td>\n",
              "    </tr>\n",
              "    <tr>\n",
              "      <th>28</th>\n",
              "      <td>1959-01-29</td>\n",
              "      <td>44</td>\n",
              "    </tr>\n",
              "    <tr>\n",
              "      <th>29</th>\n",
              "      <td>1959-01-30</td>\n",
              "      <td>38</td>\n",
              "    </tr>\n",
              "    <tr>\n",
              "      <th>30</th>\n",
              "      <td>1959-01-31</td>\n",
              "      <td>24</td>\n",
              "    </tr>\n",
              "  </tbody>\n",
              "</table>\n",
              "</div>"
            ],
            "text/plain": [
              "         date  births\n",
              "1  1959-01-02      32\n",
              "2  1959-01-03      30\n",
              "3  1959-01-04      31\n",
              "4  1959-01-05      44\n",
              "5  1959-01-06      29\n",
              "6  1959-01-07      45\n",
              "7  1959-01-08      43\n",
              "8  1959-01-09      38\n",
              "9  1959-01-10      27\n",
              "10 1959-01-11      38\n",
              "11 1959-01-12      33\n",
              "12 1959-01-13      55\n",
              "13 1959-01-14      47\n",
              "14 1959-01-15      45\n",
              "15 1959-01-16      37\n",
              "16 1959-01-17      50\n",
              "17 1959-01-18      43\n",
              "18 1959-01-19      41\n",
              "19 1959-01-20      52\n",
              "20 1959-01-21      34\n",
              "21 1959-01-22      53\n",
              "22 1959-01-23      39\n",
              "23 1959-01-24      32\n",
              "24 1959-01-25      37\n",
              "25 1959-01-26      43\n",
              "26 1959-01-27      39\n",
              "27 1959-01-28      35\n",
              "28 1959-01-29      44\n",
              "29 1959-01-30      38\n",
              "30 1959-01-31      24"
            ]
          },
          "metadata": {
            "tags": []
          },
          "execution_count": 45
        }
      ]
    },
    {
      "cell_type": "code",
      "metadata": {
        "colab": {
          "base_uri": "https://localhost:8080/"
        },
        "id": "3VmBaykxMTBf",
        "outputId": "894cf83c-9720-41bd-d2c1-146179b3ee9a"
      },
      "source": [
        "series[\"1959-01\"]"
      ],
      "execution_count": null,
      "outputs": [
        {
          "output_type": "execute_result",
          "data": {
            "text/plain": [
              "date\n",
              "1959-01-01    35\n",
              "1959-01-02    32\n",
              "1959-01-03    30\n",
              "1959-01-04    31\n",
              "1959-01-05    44\n",
              "1959-01-06    29\n",
              "1959-01-07    45\n",
              "1959-01-08    43\n",
              "1959-01-09    38\n",
              "1959-01-10    27\n",
              "1959-01-11    38\n",
              "1959-01-12    33\n",
              "1959-01-13    55\n",
              "1959-01-14    47\n",
              "1959-01-15    45\n",
              "1959-01-16    37\n",
              "1959-01-17    50\n",
              "1959-01-18    43\n",
              "1959-01-19    41\n",
              "1959-01-20    52\n",
              "1959-01-21    34\n",
              "1959-01-22    53\n",
              "1959-01-23    39\n",
              "1959-01-24    32\n",
              "1959-01-25    37\n",
              "1959-01-26    43\n",
              "1959-01-27    39\n",
              "1959-01-28    35\n",
              "1959-01-29    44\n",
              "1959-01-30    38\n",
              "1959-01-31    24\n",
              "Name: births, dtype: int64"
            ]
          },
          "metadata": {
            "tags": []
          },
          "execution_count": 46
        }
      ]
    },
    {
      "cell_type": "markdown",
      "metadata": {
        "id": "uEXbFeJ4NZX8"
      },
      "source": [
        "\n",
        "\n",
        "---\n",
        "\n",
        "\n",
        "##**Descriptive Statistics**"
      ]
    },
    {
      "cell_type": "code",
      "metadata": {
        "colab": {
          "base_uri": "https://localhost:8080/"
        },
        "id": "VCPTRJgENeKw",
        "outputId": "ae21fe5d-6189-40f0-9caa-e42213fa3878"
      },
      "source": [
        "df_2.describe()"
      ],
      "execution_count": null,
      "outputs": [
        {
          "output_type": "execute_result",
          "data": {
            "text/html": [
              "<div>\n",
              "<style scoped>\n",
              "    .dataframe tbody tr th:only-of-type {\n",
              "        vertical-align: middle;\n",
              "    }\n",
              "\n",
              "    .dataframe tbody tr th {\n",
              "        vertical-align: top;\n",
              "    }\n",
              "\n",
              "    .dataframe thead th {\n",
              "        text-align: right;\n",
              "    }\n",
              "</style>\n",
              "<table border=\"1\" class=\"dataframe\">\n",
              "  <thead>\n",
              "    <tr style=\"text-align: right;\">\n",
              "      <th></th>\n",
              "      <th>births</th>\n",
              "    </tr>\n",
              "  </thead>\n",
              "  <tbody>\n",
              "    <tr>\n",
              "      <th>count</th>\n",
              "      <td>365.000000</td>\n",
              "    </tr>\n",
              "    <tr>\n",
              "      <th>mean</th>\n",
              "      <td>41.980822</td>\n",
              "    </tr>\n",
              "    <tr>\n",
              "      <th>std</th>\n",
              "      <td>7.348257</td>\n",
              "    </tr>\n",
              "    <tr>\n",
              "      <th>min</th>\n",
              "      <td>23.000000</td>\n",
              "    </tr>\n",
              "    <tr>\n",
              "      <th>25%</th>\n",
              "      <td>37.000000</td>\n",
              "    </tr>\n",
              "    <tr>\n",
              "      <th>50%</th>\n",
              "      <td>42.000000</td>\n",
              "    </tr>\n",
              "    <tr>\n",
              "      <th>75%</th>\n",
              "      <td>46.000000</td>\n",
              "    </tr>\n",
              "    <tr>\n",
              "      <th>max</th>\n",
              "      <td>73.000000</td>\n",
              "    </tr>\n",
              "  </tbody>\n",
              "</table>\n",
              "</div>"
            ],
            "text/plain": [
              "           births\n",
              "count  365.000000\n",
              "mean    41.980822\n",
              "std      7.348257\n",
              "min     23.000000\n",
              "25%     37.000000\n",
              "50%     42.000000\n",
              "75%     46.000000\n",
              "max     73.000000"
            ]
          },
          "metadata": {
            "tags": []
          },
          "execution_count": 47
        }
      ]
    },
    {
      "cell_type": "code",
      "metadata": {
        "colab": {
          "base_uri": "https://localhost:8080/"
        },
        "id": "Ri6xUSL7NhBk",
        "outputId": "80c64f0d-4242-429a-e0ea-666f0dada655"
      },
      "source": [
        "series.describe()"
      ],
      "execution_count": null,
      "outputs": [
        {
          "output_type": "execute_result",
          "data": {
            "text/plain": [
              "count    365.000000\n",
              "mean      41.980822\n",
              "std        7.348257\n",
              "min       23.000000\n",
              "25%       37.000000\n",
              "50%       42.000000\n",
              "75%       46.000000\n",
              "max       73.000000\n",
              "Name: births, dtype: float64"
            ]
          },
          "metadata": {
            "tags": []
          },
          "execution_count": 48
        }
      ]
    },
    {
      "cell_type": "markdown",
      "metadata": {
        "id": "XHE729qVWVPt"
      },
      "source": [
        "# **3.Data visualization**\n"
      ]
    },
    {
      "cell_type": "markdown",
      "metadata": {
        "id": "ugfmQNm1YQ_y"
      },
      "source": [
        "\n",
        "\n",
        "---\n",
        "\n",
        "\n",
        "##**Plotting**"
      ]
    },
    {
      "cell_type": "code",
      "metadata": {
        "id": "TES292VbWsoG"
      },
      "source": [
        "from matplotlib import pyplot as plt"
      ],
      "execution_count": null,
      "outputs": []
    },
    {
      "cell_type": "code",
      "metadata": {
        "id": "ATFc5uBcWf_Y"
      },
      "source": [
        "visualized_df_2 = df_2.copy()"
      ],
      "execution_count": null,
      "outputs": []
    },
    {
      "cell_type": "code",
      "metadata": {
        "colab": {
          "base_uri": "https://localhost:8080/",
          "height": 206
        },
        "id": "brRAg4skWzwd",
        "outputId": "20e96590-ad2c-4f62-9b87-7838bb8404b9"
      },
      "source": [
        "visualized_df_2.head()"
      ],
      "execution_count": null,
      "outputs": [
        {
          "output_type": "execute_result",
          "data": {
            "text/html": [
              "<div>\n",
              "<style scoped>\n",
              "    .dataframe tbody tr th:only-of-type {\n",
              "        vertical-align: middle;\n",
              "    }\n",
              "\n",
              "    .dataframe tbody tr th {\n",
              "        vertical-align: top;\n",
              "    }\n",
              "\n",
              "    .dataframe thead th {\n",
              "        text-align: right;\n",
              "    }\n",
              "</style>\n",
              "<table border=\"1\" class=\"dataframe\">\n",
              "  <thead>\n",
              "    <tr style=\"text-align: right;\">\n",
              "      <th></th>\n",
              "      <th>date</th>\n",
              "      <th>births</th>\n",
              "    </tr>\n",
              "  </thead>\n",
              "  <tbody>\n",
              "    <tr>\n",
              "      <th>0</th>\n",
              "      <td>1959-01-01</td>\n",
              "      <td>35</td>\n",
              "    </tr>\n",
              "    <tr>\n",
              "      <th>1</th>\n",
              "      <td>1959-01-02</td>\n",
              "      <td>32</td>\n",
              "    </tr>\n",
              "    <tr>\n",
              "      <th>2</th>\n",
              "      <td>1959-01-03</td>\n",
              "      <td>30</td>\n",
              "    </tr>\n",
              "    <tr>\n",
              "      <th>3</th>\n",
              "      <td>1959-01-04</td>\n",
              "      <td>31</td>\n",
              "    </tr>\n",
              "    <tr>\n",
              "      <th>4</th>\n",
              "      <td>1959-01-05</td>\n",
              "      <td>44</td>\n",
              "    </tr>\n",
              "  </tbody>\n",
              "</table>\n",
              "</div>"
            ],
            "text/plain": [
              "        date  births\n",
              "0 1959-01-01      35\n",
              "1 1959-01-02      32\n",
              "2 1959-01-03      30\n",
              "3 1959-01-04      31\n",
              "4 1959-01-05      44"
            ]
          },
          "metadata": {
            "tags": []
          },
          "execution_count": 51
        }
      ]
    },
    {
      "cell_type": "code",
      "metadata": {
        "colab": {
          "base_uri": "https://localhost:8080/",
          "height": 283
        },
        "id": "SHLt1aZaW5Q1",
        "outputId": "e7d253a3-278d-4a69-ceae-812e9bc77ccc"
      },
      "source": [
        "visualized_df_2[\"births\"].plot()"
      ],
      "execution_count": null,
      "outputs": [
        {
          "output_type": "execute_result",
          "data": {
            "text/plain": [
              "<matplotlib.axes._subplots.AxesSubplot at 0x7fc80c65d710>"
            ]
          },
          "metadata": {
            "tags": []
          },
          "execution_count": 52
        },
        {
          "output_type": "display_data",
          "data": {
            "image/png": "[encoded data removed]",
            "text/plain": [
              "<Figure size 432x288 with 1 Axes>"
            ]
          },
          "metadata": {
            "tags": [],
            "needs_background": "light"
          }
        }
      ]
    },
    {
      "cell_type": "code",
      "metadata": {
        "id": "BXCwJGMZXTRg"
      },
      "source": [
        "visualized_df_2.index = visualized_df_2['date']\n",
        "# this commond changes the values of indexes from (0,1,2,3,4,5,....) \n",
        "# in visualized_df_2.head() to (1959-01-01 , 1959-01-02 , 1959-01-03 , ......)"
      ],
      "execution_count": null,
      "outputs": []
    },
    {
      "cell_type": "code",
      "metadata": {
        "colab": {
          "base_uri": "https://localhost:8080/",
          "height": 238
        },
        "id": "eqjRvFpyYBLh",
        "outputId": "ef3d5303-8e74-46e9-d6f0-1f6a925c23cf"
      },
      "source": [
        "visualized_df_2.head()"
      ],
      "execution_count": null,
      "outputs": [
        {
          "output_type": "execute_result",
          "data": {
            "text/html": [
              "<div>\n",
              "<style scoped>\n",
              "    .dataframe tbody tr th:only-of-type {\n",
              "        vertical-align: middle;\n",
              "    }\n",
              "\n",
              "    .dataframe tbody tr th {\n",
              "        vertical-align: top;\n",
              "    }\n",
              "\n",
              "    .dataframe thead th {\n",
              "        text-align: right;\n",
              "    }\n",
              "</style>\n",
              "<table border=\"1\" class=\"dataframe\">\n",
              "  <thead>\n",
              "    <tr style=\"text-align: right;\">\n",
              "      <th></th>\n",
              "      <th>date</th>\n",
              "      <th>births</th>\n",
              "    </tr>\n",
              "    <tr>\n",
              "      <th>date</th>\n",
              "      <th></th>\n",
              "      <th></th>\n",
              "    </tr>\n",
              "  </thead>\n",
              "  <tbody>\n",
              "    <tr>\n",
              "      <th>1959-01-01</th>\n",
              "      <td>1959-01-01</td>\n",
              "      <td>35</td>\n",
              "    </tr>\n",
              "    <tr>\n",
              "      <th>1959-01-02</th>\n",
              "      <td>1959-01-02</td>\n",
              "      <td>32</td>\n",
              "    </tr>\n",
              "    <tr>\n",
              "      <th>1959-01-03</th>\n",
              "      <td>1959-01-03</td>\n",
              "      <td>30</td>\n",
              "    </tr>\n",
              "    <tr>\n",
              "      <th>1959-01-04</th>\n",
              "      <td>1959-01-04</td>\n",
              "      <td>31</td>\n",
              "    </tr>\n",
              "    <tr>\n",
              "      <th>1959-01-05</th>\n",
              "      <td>1959-01-05</td>\n",
              "      <td>44</td>\n",
              "    </tr>\n",
              "  </tbody>\n",
              "</table>\n",
              "</div>"
            ],
            "text/plain": [
              "                 date  births\n",
              "date                         \n",
              "1959-01-01 1959-01-01      35\n",
              "1959-01-02 1959-01-02      32\n",
              "1959-01-03 1959-01-03      30\n",
              "1959-01-04 1959-01-04      31\n",
              "1959-01-05 1959-01-05      44"
            ]
          },
          "metadata": {
            "tags": []
          },
          "execution_count": 54
        }
      ]
    },
    {
      "cell_type": "code",
      "metadata": {
        "colab": {
          "base_uri": "https://localhost:8080/",
          "height": 309
        },
        "id": "qGCCdTDoXG6W",
        "outputId": "b201b8eb-6215-447b-9804-86f805dcacfb"
      },
      "source": [
        "visualized_df_2[\"births\"].plot()"
      ],
      "execution_count": null,
      "outputs": [
        {
          "output_type": "execute_result",
          "data": {
            "text/plain": [
              "<matplotlib.axes._subplots.AxesSubplot at 0x7fc80c553990>"
            ]
          },
          "metadata": {
            "tags": []
          },
          "execution_count": 55
        },
        {
          "output_type": "display_data",
          "data": {
            "image/png": "[encoded data removed]",
            "text/plain": [
              "<Figure size 432x288 with 1 Axes>"
            ]
          },
          "metadata": {
            "tags": [],
            "needs_background": "light"
          }
        }
      ]
    },
    {
      "cell_type": "markdown",
      "metadata": {
        "id": "cO5zcVfWYUtn"
      },
      "source": [
        "\n",
        "\n",
        "---\n",
        "\n",
        "\n",
        "##**Zooming in**"
      ]
    },
    {
      "cell_type": "code",
      "metadata": {
        "id": "vDtxTB9kXZ0W"
      },
      "source": [
        "zoomed_visualized_df_2 = visualized_df_2[(visualized_df_2[\"date\"]>\"1959-01-01\") &\n",
        "                                         (visualized_df_2[\"date\"]<=\"1959-01-10\")].copy()"
      ],
      "execution_count": null,
      "outputs": []
    },
    {
      "cell_type": "code",
      "metadata": {
        "colab": {
          "base_uri": "https://localhost:8080/",
          "height": 363
        },
        "id": "oB2gNUjDZYzt",
        "outputId": "06588ad1-b254-4ac9-f84b-359314847207"
      },
      "source": [
        "zoomed_visualized_df_2"
      ],
      "execution_count": null,
      "outputs": [
        {
          "output_type": "execute_result",
          "data": {
            "text/html": [
              "<div>\n",
              "<style scoped>\n",
              "    .dataframe tbody tr th:only-of-type {\n",
              "        vertical-align: middle;\n",
              "    }\n",
              "\n",
              "    .dataframe tbody tr th {\n",
              "        vertical-align: top;\n",
              "    }\n",
              "\n",
              "    .dataframe thead th {\n",
              "        text-align: right;\n",
              "    }\n",
              "</style>\n",
              "<table border=\"1\" class=\"dataframe\">\n",
              "  <thead>\n",
              "    <tr style=\"text-align: right;\">\n",
              "      <th></th>\n",
              "      <th>date</th>\n",
              "      <th>births</th>\n",
              "    </tr>\n",
              "    <tr>\n",
              "      <th>date</th>\n",
              "      <th></th>\n",
              "      <th></th>\n",
              "    </tr>\n",
              "  </thead>\n",
              "  <tbody>\n",
              "    <tr>\n",
              "      <th>1959-01-02</th>\n",
              "      <td>1959-01-02</td>\n",
              "      <td>32</td>\n",
              "    </tr>\n",
              "    <tr>\n",
              "      <th>1959-01-03</th>\n",
              "      <td>1959-01-03</td>\n",
              "      <td>30</td>\n",
              "    </tr>\n",
              "    <tr>\n",
              "      <th>1959-01-04</th>\n",
              "      <td>1959-01-04</td>\n",
              "      <td>31</td>\n",
              "    </tr>\n",
              "    <tr>\n",
              "      <th>1959-01-05</th>\n",
              "      <td>1959-01-05</td>\n",
              "      <td>44</td>\n",
              "    </tr>\n",
              "    <tr>\n",
              "      <th>1959-01-06</th>\n",
              "      <td>1959-01-06</td>\n",
              "      <td>29</td>\n",
              "    </tr>\n",
              "    <tr>\n",
              "      <th>1959-01-07</th>\n",
              "      <td>1959-01-07</td>\n",
              "      <td>45</td>\n",
              "    </tr>\n",
              "    <tr>\n",
              "      <th>1959-01-08</th>\n",
              "      <td>1959-01-08</td>\n",
              "      <td>43</td>\n",
              "    </tr>\n",
              "    <tr>\n",
              "      <th>1959-01-09</th>\n",
              "      <td>1959-01-09</td>\n",
              "      <td>38</td>\n",
              "    </tr>\n",
              "    <tr>\n",
              "      <th>1959-01-10</th>\n",
              "      <td>1959-01-10</td>\n",
              "      <td>27</td>\n",
              "    </tr>\n",
              "  </tbody>\n",
              "</table>\n",
              "</div>"
            ],
            "text/plain": [
              "                 date  births\n",
              "date                         \n",
              "1959-01-02 1959-01-02      32\n",
              "1959-01-03 1959-01-03      30\n",
              "1959-01-04 1959-01-04      31\n",
              "1959-01-05 1959-01-05      44\n",
              "1959-01-06 1959-01-06      29\n",
              "1959-01-07 1959-01-07      45\n",
              "1959-01-08 1959-01-08      43\n",
              "1959-01-09 1959-01-09      38\n",
              "1959-01-10 1959-01-10      27"
            ]
          },
          "metadata": {
            "tags": []
          },
          "execution_count": 60
        }
      ]
    },
    {
      "cell_type": "code",
      "metadata": {
        "colab": {
          "base_uri": "https://localhost:8080/",
          "height": 321
        },
        "id": "fp6RUHJyZasm",
        "outputId": "f54ae2a3-2006-4e2a-ce2f-2386f512d710"
      },
      "source": [
        "zoomed_visualized_df_2[\"births\"].plot()"
      ],
      "execution_count": null,
      "outputs": [
        {
          "output_type": "execute_result",
          "data": {
            "text/plain": [
              "<matplotlib.axes._subplots.AxesSubplot at 0x7fc80c629310>"
            ]
          },
          "metadata": {
            "tags": []
          },
          "execution_count": 61
        },
        {
          "output_type": "display_data",
          "data": {
            "image/png": "[encoded data removed]",
            "text/plain": [
              "<Figure size 432x288 with 1 Axes>"
            ]
          },
          "metadata": {
            "tags": [],
            "needs_background": "light"
          }
        }
      ]
    },
    {
      "cell_type": "code",
      "metadata": {
        "id": "zy9EjFNXZcGs"
      },
      "source": [
        ""
      ],
      "execution_count": null,
      "outputs": []
    },
    {
      "cell_type": "markdown",
      "metadata": {
        "id": "T-EQtJ9AZ6Cc"
      },
      "source": [
        "\n",
        "\n",
        "---\n",
        "\n",
        "\n",
        "##**Trendline**\n",
        "\n",
        "used to give the trader a good idea of the direction in which an investment's value might move"
      ]
    },
    {
      "cell_type": "code",
      "metadata": {
        "id": "qS63RChWZ9Q8"
      },
      "source": [
        "import seaborn as sns"
      ],
      "execution_count": null,
      "outputs": []
    },
    {
      "cell_type": "code",
      "metadata": {
        "colab": {
          "base_uri": "https://localhost:8080/",
          "height": 283
        },
        "id": "GgtS2BVNaB7_",
        "outputId": "83c64949-bfe5-46d9-9869-56d7453d9a25"
      },
      "source": [
        "sns.regplot(x=df_2.index.values , y=df_2[\"births\"])"
      ],
      "execution_count": null,
      "outputs": [
        {
          "output_type": "execute_result",
          "data": {
            "text/plain": [
              "<matplotlib.axes._subplots.AxesSubplot at 0x7fc7fd8e2bd0>"
            ]
          },
          "metadata": {
            "tags": []
          },
          "execution_count": 63
        },
        {
          "output_type": "display_data",
          "data": {
            "image/png": "[encoded data removed]",
            "text/plain": [
              "<Figure size 432x288 with 1 Axes>"
            ]
          },
          "metadata": {
            "tags": [],
            "needs_background": "light"
          }
        }
      ]
    },
    {
      "cell_type": "code",
      "metadata": {
        "colab": {
          "base_uri": "https://localhost:8080/",
          "height": 283
        },
        "id": "rfCFBqL7aPYq",
        "outputId": "b312d7e6-1601-4f97-b1e3-ffd4b38ac027"
      },
      "source": [
        "sns.regplot(x=df_2.index.values , y=df_2[\"births\"],order=2)\n",
        "# order=2 : means that draw a pionomial function line"
      ],
      "execution_count": null,
      "outputs": [
        {
          "output_type": "execute_result",
          "data": {
            "text/plain": [
              "<matplotlib.axes._subplots.AxesSubplot at 0x7fc80de63350>"
            ]
          },
          "metadata": {
            "tags": []
          },
          "execution_count": 64
        },
        {
          "output_type": "display_data",
          "data": {
            "image/png": "[encoded data removed]",
            "text/plain": [
              "<Figure size 432x288 with 1 Axes>"
            ]
          },
          "metadata": {
            "tags": [],
            "needs_background": "light"
          }
        }
      ]
    }
  ]
}